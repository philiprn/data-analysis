{
 "cells": [
  {
   "cell_type": "code",
   "execution_count": null,
   "metadata": {
    "collapsed": false
   },
   "outputs": [],
   "source": [
    "import json\n",
    "\n",
    "data = []\n",
    "with open(\"/Users/philip/Documents/PhD/data/ArenaData/arena_fits/2015-07-05.json\") as f:\n",
    "    data = f.readlines()\n",
    "\n",
    "json_lines = []\n",
    "\n",
    "for line in data:\n",
    "    jsline = json.loads(line)\n",
    "    json_lines.append(jsline)"
   ]
  },
  {
   "cell_type": "code",
   "execution_count": null,
   "metadata": {
    "collapsed": false
   },
   "outputs": [],
   "source": [
    "import pandas as pd\n",
    "\n",
    "frame = pd.DataFrame.from_dict(json_lines)"
   ]
  },
  {
   "cell_type": "code",
   "execution_count": null,
   "metadata": {
    "collapsed": false
   },
   "outputs": [],
   "source": [
    "# rebuild dataframe\n",
    "# make dataframe of dicts nested in 'value' column\n",
    "value = pd.DataFrame(list(frame['value']))\n",
    "del frame['value']\n",
    "\n",
    "# make dataframe of dicts nested in 'trackeeHistory' column\n",
    "trackee = pd.DataFrame(list(value['trackeeHistory']))\n",
    "del value['trackeeHistory']\n",
    "\n",
    "chi2PerDof = pd.DataFrame(list(trackee['chi2PerDof']))\n",
    "chi2PerDof.columns = ['chi2PerDof']\n",
    "probChi2 = pd.DataFrame(list(trackee['probChi2']))\n",
    "probChi2.columns = ['probChi2']\n",
    "nMeasurements = pd.DataFrame(list(trackee['nMeasurements']))\n",
    "nMeasurements.columns = ['nMeasurements']"
   ]
  },
  {
   "cell_type": "code",
   "execution_count": null,
   "metadata": {
    "collapsed": false
   },
   "outputs": [],
   "source": [
    "# make dataframe with a 'coordinates' column\n",
    "averagecoordinate = pd.DataFrame(list(value['averagecoordinate']))\n",
    "coordinates = pd.DataFrame(list(averagecoordinate['avg']))\n",
    "averagecoordinate = averagecoordinate.join(coordinates)\n",
    "error = pd.DataFrame(list(averagecoordinate['error']))\n",
    "errorcoordinates = pd.DataFrame(list(error['coordinates']))\n",
    "del errorcoordinates[2]\n",
    "errorcoordinates.columns = ['x_error','y_error']\n",
    "\n",
    "del averagecoordinate['avg']\n",
    "del value['averagecoordinate']\n",
    "\n",
    "# join dataframes\n",
    "frame = frame.join(value.join(averagecoordinate))\n",
    "frame = frame.join(chi2PerDof)\n",
    "frame = frame.join(probChi2)\n",
    "frame = frame.join(errorcoordinates)\n",
    "frame = frame.join(nMeasurements)\n",
    "del frame['regionsNodesIds']\n",
    "del frame['error']\n",
    "del frame['type']"
   ]
  },
  {
   "cell_type": "code",
   "execution_count": null,
   "metadata": {
    "collapsed": true
   },
   "outputs": [],
   "source": [
    "frame = frame[(frame['probChi2'] > 0.3) & \n",
    "              (frame['x_error'] < 10) & \n",
    "              (frame['y_error'] < 10) & \n",
    "              (frame['chi2PerDof'] < 1.2)]"
   ]
  },
  {
   "cell_type": "code",
   "execution_count": null,
   "metadata": {
    "collapsed": false
   },
   "outputs": [],
   "source": [
    "frame = frame.sort_values(by='measurementTimestamp')"
   ]
  },
  {
   "cell_type": "code",
   "execution_count": null,
   "metadata": {
    "collapsed": false
   },
   "outputs": [],
   "source": [
    "# get most frequent mac address\n",
    "macs = frame['sourceMac'].value_counts()\n",
    "macs[:5]"
   ]
  },
  {
   "cell_type": "code",
   "execution_count": null,
   "metadata": {
    "collapsed": false
   },
   "outputs": [],
   "source": [
    "len(macs)"
   ]
  },
  {
   "cell_type": "code",
   "execution_count": null,
   "metadata": {
    "collapsed": false
   },
   "outputs": [],
   "source": [
    "from math import floor, ceil, sqrt, pi, exp\n",
    "import numpy as np\n",
    "import time\n",
    "\n",
    "begin = time.time()\n",
    "\n",
    "width = 80; height = 60; \n",
    "periods = 180; nSubwindows = 1\n",
    "\n",
    "bins = np.zeros((periods, height, width))\n",
    "\n",
    "interval = 120000/nSubwindows # milliseconds\n",
    "shift = 10000 # 30000\n",
    "\n",
    "weights = np.array([0.4, 0.8, 1.2, 1.6]) \n",
    "normalization = np.zeros(nSubwindows)\n",
    "\n",
    "def kernel(u):\n",
    "    return 1/sqrt(2*pi) * exp(-(u**2)/2)\n",
    "\n",
    "for k in range(periods):\n",
    "    for i in range(3,4): # len(macs)\n",
    "        \n",
    "        # filter for mac address\n",
    "        mac_filtered_frame = frame[frame['sourceMac'] == macs.index[i]]\n",
    "        \n",
    "        subBins = np.zeros((nSubwindows, height, width))\n",
    "\n",
    "        for m in range(nSubwindows): \n",
    "            \n",
    "            #start = min(frame['measurementTimestamp']) + k * interval\n",
    "            #stop = min(frame['measurementTimestamp']) + (k+1) * interval\n",
    "\n",
    "            start = min(mac_filtered_frame['measurementTimestamp']) + k * shift + m * interval\n",
    "            stop = start + interval\n",
    "\n",
    "            subwindow = mac_filtered_frame[(mac_filtered_frame['measurementTimestamp'] >= start) & \n",
    "                               (mac_filtered_frame['measurementTimestamp'] < stop)]\n",
    "            \n",
    "            # extract positions\n",
    "            locations = subwindow['coordinates']\n",
    "\n",
    "            positions1 = pd.DataFrame(locations)\n",
    "            positions = pd.DataFrame(list(positions1['coordinates']))\n",
    "            \n",
    "            x_errors = pd.DataFrame(subwindow['x_error'])\n",
    "            y_errors = pd.DataFrame(subwindow['y_error']) \n",
    "\n",
    "            # binned positions, still fractional numbers\n",
    "            binpos = positions.apply(lambda x: x/3)\n",
    "\n",
    "            normalization[m] = 0\n",
    "            \n",
    "            # 2d binned region for one mac address\n",
    "            bins_mac = np.zeros((height,width))\n",
    "\n",
    "            gx = np.zeros(width)\n",
    "            gy = np.zeros(height)\n",
    "\n",
    "            for j in range(len(binpos)):\n",
    "                # bin positions\n",
    "                xbin = width/2 + floor(binpos[0][j])\n",
    "                ybin = height/2 + floor(binpos[1][j])\n",
    "                \n",
    "                if xbin >= 0 and xbin < width and ybin >= 0 and ybin < height:\n",
    "                    \n",
    "                    normalization[m] += 1\n",
    "                    '''\n",
    "                    bins_mac_temp = np.zeros((height,width))\n",
    "                    \n",
    "                    bins_mac_temp[ybin][xbin] += 1\n",
    "                \n",
    "                    #### apply Gaussian blurring #########################################\n",
    "                    \n",
    "                    smooth_bins = np.zeros((height,width))\n",
    "                    \n",
    "                    sigmaX = (x_errors.values[j]/3)**2\n",
    "                    sigmaY = (y_errors.values[j]/3)**2\n",
    "                    \n",
    "                    # Gaussian kernel functions\n",
    "                    for binNr in range(height):\n",
    "                        gy[binNr] = 1/sqrt(2*pi*sigmaY) * exp(-(binNr**2)/(2*sigmaY))\n",
    "                        \n",
    "                    for binNr in range(width):\n",
    "                        gx[binNr] = 1/sqrt(2*pi*sigmaX) * exp(-(binNr**2)/(2*sigmaX))\n",
    "                    \n",
    "                    # convolutions\n",
    "                    for u in range(width):\n",
    "                        for v in range(width):\n",
    "                            smooth_bins[ybin, u] += bins_mac_temp[ybin, v] * gx[abs(v - u)]\n",
    "                            \n",
    "                    bins_mac_temp = smooth_bins\n",
    "                    smooth_bins = np.zeros((height,width))\n",
    "                            \n",
    "                    for w in range(width):\n",
    "                        for u in range(height):\n",
    "                            for v in range(height):\n",
    "                                smooth_bins[u, w] += bins_mac_temp[v, w] * gy[abs(v - u)]\n",
    "                                \n",
    "                    ######################################################################\n",
    "                    '''\n",
    "                    #### kernel density estimation #########################################\n",
    "\n",
    "                    hx = x_errors.values[j]\n",
    "                    hy = y_errors.values[j]\n",
    "\n",
    "                    smooth_bins = np.zeros((60,80))\n",
    "\n",
    "                    for u in range(width):\n",
    "                        for v in range(height):\n",
    "                            smooth_bins[v][u] += kernel((u - xbin) / hx) * kernel((v - ybin) / hy)\n",
    "                            \n",
    "                    smooth_bins /= hx * hy\n",
    "                    \n",
    "                    ######################################################################\n",
    "                    \n",
    "                    bins_mac += smooth_bins\n",
    "                    \n",
    "                    #print(smooth_bins.sum())\n",
    "            \n",
    "            #bins_mac *= weights[m]\n",
    "            \n",
    "            #if normalization[m] > 0:\n",
    "            #    bins_mac /= normalization[m]\n",
    "                \n",
    "            subBins[m] += bins_mac * weights[m]\n",
    "            \n",
    "        #### apply weighted sum over subwindows\n",
    "        \n",
    "        for win in range(nSubwindows):\n",
    "            bins[k] += subBins[win] * weights[win]  \n",
    "            \n",
    "        if normalization.sum() > 0:\n",
    "           bins[k] /= np.multiply(weights, normalization).sum()\n",
    "    \n",
    "    #### write 2d bin to file ####\n",
    "    \n",
    "    np.savetxt('output/bins_%d.txt' %  k, bins[k], delimiter=',')\n",
    "    \n",
    "    print('Time window:', k)\n",
    "    \n",
    "end = time.time()\n",
    "print('Time elpased:', end - begin)"
   ]
  },
  {
   "cell_type": "code",
   "execution_count": null,
   "metadata": {
    "collapsed": false
   },
   "outputs": [],
   "source": [
    "# this is a plot test cell\n",
    "import numpy as np\n",
    "import matplotlib.pyplot as plt\n",
    "from mpl_toolkits.mplot3d import Axes3D\n",
    "from matplotlib import cm\n",
    "from matplotlib.ticker import LinearLocator, FormatStrFormatter\n",
    "\n",
    "fig = plt.figure(figsize=(12,8))\n",
    "\n",
    "width = 80; height = 60\n",
    "\n",
    "X = np.arange(width)\n",
    "Y = np.arange(height)*(-1)\n",
    "Xs, Ys = np.meshgrid(X, Y)\n",
    "\n",
    "Z = np.loadtxt('bins_%d.txt' % 0, delimiter=',')\n",
    "\n",
    "ax = Axes3D(fig)\n",
    "ax.plot_surface(Xs, Ys, Z, rstride=2, cstride=1, cmap='hsv')#, cmap='hot')\n",
    "#ax.set_zlim3d(0, 0.05)\n",
    "plt.show()"
   ]
  },
  {
   "cell_type": "code",
   "execution_count": null,
   "metadata": {
    "collapsed": false
   },
   "outputs": [],
   "source": [
    "bins[0].sum()"
   ]
  },
  {
   "cell_type": "code",
   "execution_count": null,
   "metadata": {
    "collapsed": false
   },
   "outputs": [],
   "source": [
    "bins.shape"
   ]
  },
  {
   "cell_type": "code",
   "execution_count": null,
   "metadata": {
    "collapsed": false
   },
   "outputs": [],
   "source": [
    "import matplotlib.pyplot as plt\n",
    "from mpl_toolkits.mplot3d import Axes3D\n",
    "from matplotlib import cm\n",
    "from matplotlib.ticker import LinearLocator, FormatStrFormatter\n",
    "\n",
    "fig = plt.figure(figsize=(12,8))\n",
    "\n",
    "X = np.arange(width)\n",
    "Y = np.arange(height)*(-1)\n",
    "Xs, Ys = np.meshgrid(X, Y)\n",
    "\n",
    "for i in range(periods):\n",
    "    Z = np.loadtxt('bins_%d.txt' % i, delimiter=',')\n",
    "\n",
    "    ax = Axes3D(fig)\n",
    "    ax.plot_surface(Xs, Ys, Z, rstride=2, cstride=1, cmap='hsv')#, cmap='hot')\n",
    "    ax.set_zlim3d(0, 0.0005)\n",
    "    if i < 10:\n",
    "        number = '000' + str(i)\n",
    "    elif i > 9:\n",
    "        number = '00' + str(i)\n",
    "    elif i > 99:\n",
    "        number = '0' + str(i)\n",
    "    plt.savefig('surface-%s.png' % number)\n",
    "#plt.show()\n"
   ]
  },
  {
   "cell_type": "code",
   "execution_count": null,
   "metadata": {
    "collapsed": false
   },
   "outputs": [],
   "source": [
    "import matplotlib.pyplot as plt\n",
    "\n",
    "#im = plt.imread('/Users/philip/Documents/PhD/data-analysis/escience/arena_sensation.png')\n",
    "\n",
    "#fig = plt.figure()\n",
    "#ax = fig.add_subplot(1,1,1)\n",
    "# convenience method:\n",
    "fig, ax = plt.subplots(figsize=(12,8))\n",
    "\n",
    "#ax.set_xlim((0,1853)) # 1853\n",
    "#ax.set_ylim((0,1369)) # 1369\n",
    "\n",
    "#ax.imshow(im)\n",
    "\n",
    "for i in range(periods):\n",
    "    ax.imshow(bins[i], aspect='auto', cmap='hsv', alpha=1)\n",
    "    if i < 10:\n",
    "        number = '000' + str(i)\n",
    "    elif i > 9:\n",
    "        number = '00' + str(i)\n",
    "    elif i > 99:\n",
    "        number = '0' + str(i)\n",
    "    plt.savefig('map-%s.png' % number)\n",
    "    \n",
    "#plt.show()"
   ]
  },
  {
   "cell_type": "code",
   "execution_count": null,
   "metadata": {
    "collapsed": false
   },
   "outputs": [],
   "source": [
    "from mpl_toolkits.mplot3d import Axes3D\n",
    "import matplotlib.pyplot as plt\n",
    "import numpy as np\n",
    "\n",
    "fig = plt.figure(figsize=(12,8))\n",
    "ax = fig.add_subplot(111, projection='3d')\n",
    "\n",
    "x_data, y_data = np.meshgrid( np.arange(width),\n",
    "                              np.arange(height)*(-1) )\n",
    "\n",
    "col = ['r', 'y', 'c', 'k', 'c','r'] * height * width\n",
    "# colors = np.random.choice(col, height*width)\n",
    "\n",
    "x_data = x_data.flatten()\n",
    "y_data = y_data.flatten()\n",
    "\n",
    "for i in range(periods):\n",
    "    z_data = bins[i].flatten()\n",
    "    ax.set_zlim3d(0, 16)\n",
    "    ax.bar3d( x_data,\n",
    "              y_data,\n",
    "              np.zeros(len(z_data)),\n",
    "              1, 1, z_data, color=col) # \n",
    "    if i < 10:\n",
    "        number = '000' + str(i)\n",
    "    elif i > 9:\n",
    "        number = '00' + str(i)\n",
    "    elif i > 99:\n",
    "        number = '0' + str(i)\n",
    "    plt.savefig('bar-%s.png' % number)\n",
    "\n",
    "#plt.show()"
   ]
  },
  {
   "cell_type": "code",
   "execution_count": null,
   "metadata": {
    "collapsed": true
   },
   "outputs": [],
   "source": []
  }
 ],
 "metadata": {
  "kernelspec": {
   "display_name": "Python 3",
   "language": "python",
   "name": "python3"
  },
  "language_info": {
   "codemirror_mode": {
    "name": "ipython",
    "version": 3
   },
   "file_extension": ".py",
   "mimetype": "text/x-python",
   "name": "python",
   "nbconvert_exporter": "python",
   "pygments_lexer": "ipython3",
   "version": "3.5.1"
  }
 },
 "nbformat": 4,
 "nbformat_minor": 0
}
