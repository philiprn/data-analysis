{
 "cells": [
  {
   "cell_type": "code",
   "execution_count": null,
   "metadata": {
    "collapsed": false
   },
   "outputs": [],
   "source": [
    "import json\n",
    "\n",
    "data = []\n",
    "with open(\"/Users/philip/Documents/PhD/data/ArenaData/arena_fits/2015-07-05.json\") as f:\n",
    "    data = f.readlines()\n",
    "\n",
    "json_lines = []\n",
    "\n",
    "for line in data:\n",
    "    jsline = json.loads(line)\n",
    "    json_lines.append(jsline)"
   ]
  },
  {
   "cell_type": "code",
   "execution_count": null,
   "metadata": {
    "collapsed": false
   },
   "outputs": [],
   "source": [
    "import pandas as pd\n",
    "\n",
    "frame = pd.DataFrame.from_dict(json_lines)"
   ]
  },
  {
   "cell_type": "code",
   "execution_count": null,
   "metadata": {
    "collapsed": false
   },
   "outputs": [],
   "source": [
    "# rebuild dataframe\n",
    "# make dataframe of dicts nested in 'value' column\n",
    "value = pd.DataFrame(list(frame['value']))\n",
    "del frame['value']\n",
    "\n",
    "# make dataframe of dicts nested in 'trackeeHistory' column\n",
    "trackee = pd.DataFrame(list(value['trackeeHistory']))\n",
    "del value['trackeeHistory']\n",
    "\n",
    "chi2PerDof = pd.DataFrame(list(trackee['chi2PerDof']))\n",
    "chi2PerDof.columns = ['chi2PerDof']\n",
    "probChi2 = pd.DataFrame(list(trackee['probChi2']))\n",
    "probChi2.columns = ['probChi2']\n",
    "nMeasurements = pd.DataFrame(list(trackee['nMeasurements']))\n",
    "nMeasurements.columns = ['nMeasurements']"
   ]
  },
  {
   "cell_type": "code",
   "execution_count": null,
   "metadata": {
    "collapsed": false
   },
   "outputs": [],
   "source": [
    "# make dataframe with a 'coordinates' column\n",
    "averagecoordinate = pd.DataFrame(list(value['averagecoordinate']))\n",
    "coordinates = pd.DataFrame(list(averagecoordinate['avg']))\n",
    "averagecoordinate = averagecoordinate.join(coordinates)\n",
    "error = pd.DataFrame(list(averagecoordinate['error']))\n",
    "errorcoordinates = pd.DataFrame(list(error['coordinates']))\n",
    "del errorcoordinates[2]\n",
    "errorcoordinates.columns = ['x_error','y_error']\n",
    "\n",
    "del averagecoordinate['avg']\n",
    "del value['averagecoordinate']\n",
    "\n",
    "# join dataframes\n",
    "frame = frame.join(value.join(averagecoordinate))\n",
    "frame = frame.join(chi2PerDof)\n",
    "frame = frame.join(probChi2)\n",
    "frame = frame.join(errorcoordinates)\n",
    "frame = frame.join(nMeasurements)\n",
    "del frame['regionsNodesIds']\n",
    "del frame['error']\n",
    "del frame['type']"
   ]
  },
  {
   "cell_type": "code",
   "execution_count": null,
   "metadata": {
    "collapsed": false
   },
   "outputs": [],
   "source": [
    "# filters\n",
    "probChi2_filtered = frame[frame['probChi2'] > 0.3]\n",
    "error_filtered = probChi2_filtered[probChi2_filtered['x_error'] < 10] # e/sqrt(n) was < 5\n",
    "error_filtered = error_filtered[error_filtered['y_error'] < 10]\n",
    "frame = error_filtered[error_filtered['chi2PerDof'] < 1.2]"
   ]
  },
  {
   "cell_type": "code",
   "execution_count": null,
   "metadata": {
    "collapsed": false
   },
   "outputs": [],
   "source": [
    "frame = frame.sort_values(by='measurementTimestamp')"
   ]
  },
  {
   "cell_type": "code",
   "execution_count": null,
   "metadata": {
    "collapsed": false
   },
   "outputs": [],
   "source": [
    "# get most frequent mac address\n",
    "macs = frame['sourceMac'].value_counts()\n",
    "macs[:5]"
   ]
  },
  {
   "cell_type": "code",
   "execution_count": null,
   "metadata": {
    "collapsed": false
   },
   "outputs": [],
   "source": [
    "len(macs)"
   ]
  },
  {
   "cell_type": "code",
   "execution_count": null,
   "metadata": {
    "collapsed": false
   },
   "outputs": [],
   "source": [
    "from math import floor, ceil\n",
    "import numpy as np\n",
    "import time\n",
    "\n",
    "begin = time.time()\n",
    "\n",
    "width = 80; height = 60; periods = 60 # was 10\n",
    "\n",
    "bins = np.zeros((periods,height,width))\n",
    "\n",
    "interval = 120000 # milliseconds\n",
    "shift = 30000\n",
    "\n",
    "for k in range(periods):\n",
    "    #start = min(frame['measurementTimestamp']) + k * interval\n",
    "    #stop = min(frame['measurementTimestamp']) + (k+1) * interval\n",
    "    \n",
    "    start = min(frame['measurementTimestamp']) + k * shift\n",
    "    stop =  start + interval\n",
    "    \n",
    "    timewindow = frame[frame['measurementTimestamp'] < stop]\n",
    "    timewindow = timewindow[timewindow['measurementTimestamp'] >= start]\n",
    "    \n",
    "    #normalization = 0\n",
    "    \n",
    "    #bins.append()\n",
    "\n",
    "    for i in range(len(macs)): # len(macs)\n",
    "        # filter for mac address\n",
    "        mac_filtered_frame = timewindow[timewindow['sourceMac'] == macs.index[i]]\n",
    "        # extract positions\n",
    "        locations = mac_filtered_frame['coordinates']\n",
    "\n",
    "        positions1 = pd.DataFrame(locations)\n",
    "        positions = pd.DataFrame(list(positions1['coordinates']))\n",
    "\n",
    "        f = lambda x: x/3\n",
    "\n",
    "        # binned positions, still fractional numbers\n",
    "        binpos = positions.apply(f)\n",
    "        \n",
    "        normalization = 0\n",
    "        bins_mac = np.zeros((height,width))\n",
    "\n",
    "        for j in range(len(binpos)):\n",
    "            if floor(binpos[0][j]) >= -width/2 and floor(binpos[0][j]) < width/2 and \\\n",
    "                floor(binpos[1][j]) >= -height/2 and floor(binpos[1][j]) < height/2:\n",
    "                bins_mac[height/2 + floor(binpos[1][j])][width/2 + floor(binpos[0][j])] += 1\n",
    "                normalization += 1\n",
    "        \n",
    "        if normalization > 0:\n",
    "            bins_mac /= normalization\n",
    "            \n",
    "        bins[k] += bins_mac\n",
    "    print(k)\n",
    "    \n",
    "end = time.time()\n",
    "print(end - begin)"
   ]
  },
  {
   "cell_type": "code",
   "execution_count": null,
   "metadata": {
    "collapsed": false
   },
   "outputs": [],
   "source": [
    "bins[0].sum()"
   ]
  },
  {
   "cell_type": "code",
   "execution_count": null,
   "metadata": {
    "collapsed": false
   },
   "outputs": [],
   "source": [
    "bins.shape"
   ]
  },
  {
   "cell_type": "code",
   "execution_count": null,
   "metadata": {
    "collapsed": false
   },
   "outputs": [],
   "source": [
    "import matplotlib.pyplot as plt\n",
    "from mpl_toolkits.mplot3d import Axes3D\n",
    "from matplotlib import cm\n",
    "from matplotlib.ticker import LinearLocator, FormatStrFormatter\n",
    "\n",
    "fig = plt.figure(figsize=(12,8))\n",
    "\n",
    "X = np.arange(width)\n",
    "Y = np.arange(height)\n",
    "Xs, Ys = np.meshgrid(X, Y)\n",
    "\n",
    "for i in range(periods):\n",
    "    Z = bins[i]\n",
    "\n",
    "    ax = Axes3D(fig)\n",
    "    ax.plot_surface(Xs, Ys, Z, rstride=2, cstride=1, cmap='hsv')#, cmap='hot')\n",
    "    ax.set_zlim3d(0, 16)\n",
    "    if i < 10:\n",
    "        number = '000' + str(i)\n",
    "    elif i > 9:\n",
    "        number = '00' + str(i)\n",
    "    elif i > 99:\n",
    "        number = '0' + str(i)\n",
    "    plt.savefig('surface-%s.png' % number)\n",
    "#plt.show()\n"
   ]
  },
  {
   "cell_type": "code",
   "execution_count": null,
   "metadata": {
    "collapsed": false
   },
   "outputs": [],
   "source": [
    "import matplotlib.pyplot as plt\n",
    "\n",
    "#im = plt.imread('/Users/philip/Documents/PhD/data-analysis/escience/arena_sensation.png')\n",
    "\n",
    "#fig = plt.figure()\n",
    "#ax = fig.add_subplot(1,1,1)\n",
    "# convenience method:\n",
    "fig, ax = plt.subplots(figsize=(12,8))\n",
    "\n",
    "#ax.set_xlim((0,1853)) # 1853\n",
    "#ax.set_ylim((0,1369)) # 1369\n",
    "\n",
    "#ax.imshow(im)\n",
    "\n",
    "for i in range(periods):\n",
    "    ax.imshow(bins[i], aspect='auto', cmap='hsv', alpha=1)\n",
    "    if i < 10:\n",
    "        number = '000' + str(i)\n",
    "    elif i > 9:\n",
    "        number = '00' + str(i)\n",
    "    elif i > 99:\n",
    "        number = '0' + str(i)\n",
    "    plt.savefig('map-%s.png' % number)\n",
    "    \n",
    "#plt.show()"
   ]
  },
  {
   "cell_type": "code",
   "execution_count": null,
   "metadata": {
    "collapsed": false
   },
   "outputs": [],
   "source": [
    "from mpl_toolkits.mplot3d import Axes3D\n",
    "import matplotlib.pyplot as plt\n",
    "import numpy as np\n",
    "\n",
    "fig = plt.figure(figsize=(12,8))\n",
    "ax = fig.add_subplot(111, projection='3d')\n",
    "\n",
    "x_data, y_data = np.meshgrid( np.arange(width),\n",
    "                              np.arange(height)*(-1) )\n",
    "\n",
    "col = ['r', 'y', 'c', 'k', 'c','r'] * height * width\n",
    "# colors = np.random.choice(col, height*width)\n",
    "\n",
    "x_data = x_data.flatten()\n",
    "y_data = y_data.flatten()\n",
    "\n",
    "for i in range(periods):\n",
    "    z_data = bins[i].flatten()\n",
    "    ax.set_zlim3d(0, 16)\n",
    "    ax.bar3d( x_data,\n",
    "              y_data,\n",
    "              np.zeros(len(z_data)),\n",
    "              1, 1, z_data, color=col) # \n",
    "    if i < 10:\n",
    "        number = '000' + str(i)\n",
    "    elif i > 9:\n",
    "        number = '00' + str(i)\n",
    "    elif i > 99:\n",
    "        number = '0' + str(i)\n",
    "    plt.savefig('bar-%s.png' % number)\n",
    "\n",
    "#plt.show()"
   ]
  },
  {
   "cell_type": "code",
   "execution_count": null,
   "metadata": {
    "collapsed": false
   },
   "outputs": [],
   "source": [
    "import matplotlib.pyplot as plt\n",
    "\n",
    "fig = plt.figure()\n",
    "ax = fig.add_subplot(1,1,1)\n",
    "plt.plot(bins[:,18,60])\n",
    "plt.show()"
   ]
  },
  {
   "cell_type": "code",
   "execution_count": null,
   "metadata": {
    "collapsed": true
   },
   "outputs": [],
   "source": []
  }
 ],
 "metadata": {
  "kernelspec": {
   "display_name": "Python 3",
   "language": "python",
   "name": "python3"
  },
  "language_info": {
   "codemirror_mode": {
    "name": "ipython",
    "version": 3
   },
   "file_extension": ".py",
   "mimetype": "text/x-python",
   "name": "python",
   "nbconvert_exporter": "python",
   "pygments_lexer": "ipython3",
   "version": "3.5.1"
  }
 },
 "nbformat": 4,
 "nbformat_minor": 0
}
