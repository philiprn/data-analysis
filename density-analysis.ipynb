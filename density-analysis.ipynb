{
 "cells": [
  {
   "cell_type": "code",
   "execution_count": 1,
   "metadata": {
    "collapsed": true
   },
   "outputs": [],
   "source": [
    "import json\n",
    "\n",
    "data = []\n",
    "with open(\"/Users/philip/Documents/PhD/data/ArenaData/arena_fits/2015-07-05.json\") as f:\n",
    "    data = f.readlines()\n",
    "\n",
    "json_lines = []\n",
    "\n",
    "for line in data:\n",
    "    jsline = json.loads(line)\n",
    "    json_lines.append(jsline)"
   ]
  },
  {
   "cell_type": "code",
   "execution_count": 51,
   "metadata": {
    "collapsed": false
   },
   "outputs": [],
   "source": [
    "import pandas as pd\n",
    "\n",
    "frame = pd.DataFrame.from_dict(json_lines)"
   ]
  },
  {
   "cell_type": "code",
   "execution_count": 52,
   "metadata": {
    "collapsed": false
   },
   "outputs": [],
   "source": [
    "# rebuild dataframe\n",
    "# make dataframe of dicts nested in 'value' column\n",
    "value = pd.DataFrame(list(frame['value']))\n",
    "del frame['value']\n",
    "\n",
    "# make dataframe of dicts nested in 'trackeeHistory' column\n",
    "del value['trackeeHistory']\n",
    "\n",
    "# make dataframe with a 'coordinates' column\n",
    "averagecoordinate = pd.DataFrame(list(value['averagecoordinate']))\n",
    "coordinates = pd.DataFrame(list(averagecoordinate['avg']))\n",
    "averagecoordinate = averagecoordinate.join(coordinates)\n",
    "del averagecoordinate['avg']\n",
    "del value['averagecoordinate']\n",
    "\n",
    "# join dataframes\n",
    "frame = frame.join(value.join(averagecoordinate))\n",
    "del frame['regionsNodesIds']\n",
    "del frame['error']\n",
    "del frame['type']"
   ]
  },
  {
   "cell_type": "code",
   "execution_count": 76,
   "metadata": {
    "collapsed": false
   },
   "outputs": [],
   "source": [
    "frame = frame.sort_values(by='measurementTimestamp')\n"
   ]
  },
  {
   "cell_type": "code",
   "execution_count": 77,
   "metadata": {
    "collapsed": false
   },
   "outputs": [
    {
     "data": {
      "text/html": [
       "<div>\n",
       "<table border=\"1\" class=\"dataframe\">\n",
       "  <thead>\n",
       "    <tr style=\"text-align: right;\">\n",
       "      <th></th>\n",
       "      <th>measurementTimestamp</th>\n",
       "      <th>processingTimestamp</th>\n",
       "      <th>sourceMac</th>\n",
       "      <th>coordinates</th>\n",
       "    </tr>\n",
       "  </thead>\n",
       "  <tbody>\n",
       "    <tr>\n",
       "      <th>73</th>\n",
       "      <td>1436047367297</td>\n",
       "      <td>1436047381262</td>\n",
       "      <td>62e72aeb-2c41-44ed-88a6-3423267c1cb5</td>\n",
       "      <td>[-7.459665, -75.723003, 0.0]</td>\n",
       "    </tr>\n",
       "    <tr>\n",
       "      <th>141</th>\n",
       "      <td>1436047367330</td>\n",
       "      <td>1436047381441</td>\n",
       "      <td>7c824b77-a38b-4c3d-bb6a-3e40f5373d97</td>\n",
       "      <td>[46.207027, -29.514564, 0.0]</td>\n",
       "    </tr>\n",
       "    <tr>\n",
       "      <th>149</th>\n",
       "      <td>1436047367683</td>\n",
       "      <td>1436047381455</td>\n",
       "      <td>4ff97883-b9e8-4e2e-8b22-9bd093cfa401</td>\n",
       "      <td>[-110.189892, -2.635529, 0.0]</td>\n",
       "    </tr>\n",
       "  </tbody>\n",
       "</table>\n",
       "</div>"
      ],
      "text/plain": [
       "     measurementTimestamp  processingTimestamp  \\\n",
       "73          1436047367297        1436047381262   \n",
       "141         1436047367330        1436047381441   \n",
       "149         1436047367683        1436047381455   \n",
       "\n",
       "                                sourceMac                    coordinates  \n",
       "73   62e72aeb-2c41-44ed-88a6-3423267c1cb5   [-7.459665, -75.723003, 0.0]  \n",
       "141  7c824b77-a38b-4c3d-bb6a-3e40f5373d97   [46.207027, -29.514564, 0.0]  \n",
       "149  4ff97883-b9e8-4e2e-8b22-9bd093cfa401  [-110.189892, -2.635529, 0.0]  "
      ]
     },
     "execution_count": 77,
     "metadata": {},
     "output_type": "execute_result"
    }
   ],
   "source": []
  },
  {
   "cell_type": "code",
   "execution_count": 87,
   "metadata": {
    "collapsed": false
   },
   "outputs": [],
   "source": [
    "timewindow = frame[frame['measurementTimestamp'] < min(frame['measurementTimestamp']) + 180000]"
   ]
  },
  {
   "cell_type": "code",
   "execution_count": 89,
   "metadata": {
    "collapsed": false
   },
   "outputs": [
    {
     "data": {
      "text/plain": [
       "3755"
      ]
     },
     "execution_count": 89,
     "metadata": {},
     "output_type": "execute_result"
    }
   ],
   "source": [
    "len(window)"
   ]
  },
  {
   "cell_type": "code",
   "execution_count": 6,
   "metadata": {
    "collapsed": false
   },
   "outputs": [
    {
     "data": {
      "text/plain": [
       "2d1ff804-c499-4163-b90f-003df1e4ec65    78664\n",
       "85a84e08-c967-41d0-b56b-522574796776    74356\n",
       "2c019c2d-7e9e-42b1-b3bd-1797c918d4a7    16995\n",
       "e1deda99-163f-4b68-9ade-e1f05d070bf2     8370\n",
       "6cab229a-e15d-48b7-ab1e-5ddca3d7e283     7712\n",
       "Name: sourceMac, dtype: int64"
      ]
     },
     "execution_count": 6,
     "metadata": {},
     "output_type": "execute_result"
    }
   ],
   "source": [
    "# get most frequent mac address\n",
    "macs = frame['sourceMac'].value_counts()\n",
    "macs[:5]"
   ]
  },
  {
   "cell_type": "code",
   "execution_count": 60,
   "metadata": {
    "collapsed": false
   },
   "outputs": [
    {
     "data": {
      "text/plain": [
       "30344"
      ]
     },
     "execution_count": 60,
     "metadata": {},
     "output_type": "execute_result"
    }
   ],
   "source": [
    "len(macs)"
   ]
  },
  {
   "cell_type": "code",
   "execution_count": 173,
   "metadata": {
    "collapsed": false
   },
   "outputs": [
    {
     "name": "stderr",
     "output_type": "stream",
     "text": [
      "/Library/Frameworks/Python.framework/Versions/3.5/lib/python3.5/site-packages/ipykernel/__main__.py:39: DeprecationWarning: using a non-integer number instead of an integer will result in an error in the future\n"
     ]
    }
   ],
   "source": [
    "from math import floor, ceil\n",
    "import numpy as np\n",
    "\n",
    "width = 80; height = 60; periods = 100 # was 10\n",
    "\n",
    "bins = np.zeros((periods,height,width))\n",
    "\n",
    "interval = 180000 # milliseconds\n",
    "shift = 10000\n",
    "\n",
    "for k in range(periods):\n",
    "    #start = min(frame['measurementTimestamp']) + k * interval\n",
    "    start = min(frame['measurementTimestamp']) + k * shift\n",
    "    stop =  min(frame['measurementTimestamp']) + k * shift + interval\n",
    "    #stop = min(frame['measurementTimestamp']) + (k+1) * interval\n",
    "    timewindow = frame[frame['measurementTimestamp'] < stop]\n",
    "    timewindow = timewindow[timewindow['measurementTimestamp'] >= start]\n",
    "    \n",
    "    normalization = 0\n",
    "    \n",
    "    #bins.append()\n",
    "\n",
    "    for i in range(300): # len(macs)\n",
    "        # filter for mac address\n",
    "        mac_filtered_frame = timewindow[timewindow['sourceMac'] == macs.index[i]]\n",
    "        # extract positions\n",
    "        locations = mac_filtered_frame['coordinates']\n",
    "\n",
    "        positions1 = pd.DataFrame(locations)\n",
    "        positions = pd.DataFrame(list(positions1['coordinates']))\n",
    "\n",
    "        f = lambda x: x/3\n",
    "\n",
    "        # binned positions, still fractional numbers\n",
    "        binpos = positions.apply(f)\n",
    "\n",
    "        for j in range(len(binpos) - 1):\n",
    "            if floor(binpos[0][j]) >= -width/2 and floor(binpos[0][j]) < width/2 and \\\n",
    "                floor(binpos[1][j]) >= -height/2 and floor(binpos[1][j]) < height/2:\n",
    "                bins[k][height/2 + floor(binpos[1][j])][width/2 + floor(binpos[0][j])] += 1\n",
    "                normalization += 1\n",
    "            \n",
    "    bins[k] /= normalization"
   ]
  },
  {
   "cell_type": "code",
   "execution_count": 122,
   "metadata": {
    "collapsed": false
   },
   "outputs": [
    {
     "data": {
      "text/plain": [
       "1.0"
      ]
     },
     "execution_count": 122,
     "metadata": {},
     "output_type": "execute_result"
    }
   ],
   "source": [
    "bins[2].sum()"
   ]
  },
  {
   "cell_type": "code",
   "execution_count": 136,
   "metadata": {
    "collapsed": false
   },
   "outputs": [
    {
     "data": {
      "text/plain": [
       "(10, 60, 80)"
      ]
     },
     "execution_count": 136,
     "metadata": {},
     "output_type": "execute_result"
    }
   ],
   "source": [
    "bins.shape"
   ]
  },
  {
   "cell_type": "code",
   "execution_count": 137,
   "metadata": {
    "collapsed": false
   },
   "outputs": [],
   "source": [
    "import matplotlib.pyplot as plt\n",
    "from mpl_toolkits.mplot3d import Axes3D\n",
    "from matplotlib import cm\n",
    "from matplotlib.ticker import LinearLocator, FormatStrFormatter\n",
    "\n",
    "fig = plt.figure(figsize=(12,8))\n",
    "\n",
    "X = np.arange(0,width,1)\n",
    "Y = np.arange(0,height,1)\n",
    "Xs, Ys = np.meshgrid(X, Y)\n",
    "\n",
    "Z = bins[0]\n",
    "\n",
    "ax = Axes3D(fig)\n",
    "ax.plot_surface(Xs, Ys, Z, rstride=2, cstride=1, cmap='hsv')#, cmap='hot')\n",
    "plt.show()"
   ]
  },
  {
   "cell_type": "code",
   "execution_count": 174,
   "metadata": {
    "collapsed": false
   },
   "outputs": [],
   "source": [
    "im = plt.imread('/Users/philip/Documents/PhD/data-analysis/escience/arena_sensation.png')\n",
    "\n",
    "#fig = plt.figure()\n",
    "#ax = fig.add_subplot(1,1,1)\n",
    "# convenience method:\n",
    "fig, ax = plt.subplots(figsize=(12,8))\n",
    "\n",
    "#ax.set_xlim((0,1853)) # 1853\n",
    "#ax.set_ylim((0,1369)) # 1369\n",
    "\n",
    "ax.imshow(im)\n",
    "\n",
    "for i in range(100):\n",
    "    ax.imshow(bins[i], aspect='auto', cmap='hsv', alpha=1)\n",
    "    if i < 10:\n",
    "        number = '000' + str(i)\n",
    "    else:\n",
    "        number = '00' + str(i)\n",
    "    plt.savefig('probability-map%s.png' % number)\n",
    "    \n",
    "#plt.show()"
   ]
  },
  {
   "cell_type": "code",
   "execution_count": 167,
   "metadata": {
    "collapsed": false
   },
   "outputs": [
    {
     "data": {
      "text/plain": [
       "'0009'"
      ]
     },
     "execution_count": 167,
     "metadata": {},
     "output_type": "execute_result"
    }
   ],
   "source": [
    "number"
   ]
  },
  {
   "cell_type": "code",
   "execution_count": null,
   "metadata": {
    "collapsed": true
   },
   "outputs": [],
   "source": []
  }
 ],
 "metadata": {
  "kernelspec": {
   "display_name": "Python 3",
   "language": "python",
   "name": "python3"
  },
  "language_info": {
   "codemirror_mode": {
    "name": "ipython",
    "version": 3
   },
   "file_extension": ".py",
   "mimetype": "text/x-python",
   "name": "python",
   "nbconvert_exporter": "python",
   "pygments_lexer": "ipython3",
   "version": "3.5.1"
  }
 },
 "nbformat": 4,
 "nbformat_minor": 0
}
