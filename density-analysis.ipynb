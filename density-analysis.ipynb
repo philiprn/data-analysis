{
 "cells": [
  {
   "cell_type": "code",
   "execution_count": 1,
   "metadata": {
    "collapsed": true
   },
   "outputs": [],
   "source": [
    "import json\n",
    "for i in [0]:\n",
    "    data = []\n",
    "    with open(\"/Users/philip/Documents/PhD/data/ArenaData/arena_fits/2015-07-05.json\") as f:\n",
    "        data = f.readlines()\n",
    "\n",
    "    json_lines = []\n",
    "    \n",
    "    for line in data:\n",
    "        jsline = json.loads(line)\n",
    "        json_lines.append(jsline)"
   ]
  },
  {
   "cell_type": "code",
   "execution_count": 51,
   "metadata": {
    "collapsed": false
   },
   "outputs": [],
   "source": [
    "import pandas as pd\n",
    "\n",
    "frame = pd.DataFrame.from_dict(json_lines)"
   ]
  },
  {
   "cell_type": "code",
   "execution_count": 52,
   "metadata": {
    "collapsed": false
   },
   "outputs": [],
   "source": [
    "# rebuild dataframe\n",
    "# make dataframe of dicts nested in 'value' column\n",
    "value = pd.DataFrame(list(frame['value']))\n",
    "del frame['value']\n",
    "\n",
    "# make dataframe of dicts nested in 'trackeeHistory' column\n",
    "del value['trackeeHistory']\n",
    "\n",
    "# make dataframe with a 'coordinates' column\n",
    "averagecoordinate = pd.DataFrame(list(value['averagecoordinate']))\n",
    "coordinates = pd.DataFrame(list(averagecoordinate['avg']))\n",
    "averagecoordinate = averagecoordinate.join(coordinates)\n",
    "del averagecoordinate['avg']\n",
    "del value['averagecoordinate']\n",
    "\n",
    "# join dataframes\n",
    "frame = frame.join(value.join(averagecoordinate))\n",
    "del frame['regionsNodesIds']\n",
    "del frame['error']\n",
    "del frame['type']"
   ]
  },
  {
   "cell_type": "code",
   "execution_count": 53,
   "metadata": {
    "collapsed": false
   },
   "outputs": [
    {
     "data": {
      "text/html": [
       "<div>\n",
       "<table border=\"1\" class=\"dataframe\">\n",
       "  <thead>\n",
       "    <tr style=\"text-align: right;\">\n",
       "      <th></th>\n",
       "      <th>measurementTimestamp</th>\n",
       "      <th>processingTimestamp</th>\n",
       "      <th>sourceMac</th>\n",
       "      <th>coordinates</th>\n",
       "    </tr>\n",
       "  </thead>\n",
       "  <tbody>\n",
       "    <tr>\n",
       "      <th>0</th>\n",
       "      <td>1436047371831</td>\n",
       "      <td>1436047381094</td>\n",
       "      <td>cae9c0d3-a1ef-44a3-b0a9-d58a482ab54b</td>\n",
       "      <td>[-92.041205, 12.180177, 0.0]</td>\n",
       "    </tr>\n",
       "    <tr>\n",
       "      <th>1</th>\n",
       "      <td>1436047378235</td>\n",
       "      <td>1436047381097</td>\n",
       "      <td>d7936b86-b468-44a8-aa19-fd86fca3bf8f</td>\n",
       "      <td>[-77.307555, -66.73669, 0.0]</td>\n",
       "    </tr>\n",
       "    <tr>\n",
       "      <th>2</th>\n",
       "      <td>1436047376517</td>\n",
       "      <td>1436047381099</td>\n",
       "      <td>84cac844-e9c9-41aa-a8a6-22e0e8c4b233</td>\n",
       "      <td>[-100.96046, -6.853413, 0.0]</td>\n",
       "    </tr>\n",
       "  </tbody>\n",
       "</table>\n",
       "</div>"
      ],
      "text/plain": [
       "   measurementTimestamp  processingTimestamp  \\\n",
       "0         1436047371831        1436047381094   \n",
       "1         1436047378235        1436047381097   \n",
       "2         1436047376517        1436047381099   \n",
       "\n",
       "                              sourceMac                   coordinates  \n",
       "0  cae9c0d3-a1ef-44a3-b0a9-d58a482ab54b  [-92.041205, 12.180177, 0.0]  \n",
       "1  d7936b86-b468-44a8-aa19-fd86fca3bf8f  [-77.307555, -66.73669, 0.0]  \n",
       "2  84cac844-e9c9-41aa-a8a6-22e0e8c4b233  [-100.96046, -6.853413, 0.0]  "
      ]
     },
     "execution_count": 53,
     "metadata": {},
     "output_type": "execute_result"
    }
   ],
   "source": [
    "frame[:3]"
   ]
  },
  {
   "cell_type": "code",
   "execution_count": 6,
   "metadata": {
    "collapsed": false
   },
   "outputs": [
    {
     "data": {
      "text/plain": [
       "2d1ff804-c499-4163-b90f-003df1e4ec65    78664\n",
       "85a84e08-c967-41d0-b56b-522574796776    74356\n",
       "2c019c2d-7e9e-42b1-b3bd-1797c918d4a7    16995\n",
       "e1deda99-163f-4b68-9ade-e1f05d070bf2     8370\n",
       "6cab229a-e15d-48b7-ab1e-5ddca3d7e283     7712\n",
       "Name: sourceMac, dtype: int64"
      ]
     },
     "execution_count": 6,
     "metadata": {},
     "output_type": "execute_result"
    }
   ],
   "source": [
    "# get most frequent mac address\n",
    "macs = frame['sourceMac'].value_counts()\n",
    "macs[:5]"
   ]
  },
  {
   "cell_type": "code",
   "execution_count": 54,
   "metadata": {
    "collapsed": false
   },
   "outputs": [
    {
     "name": "stderr",
     "output_type": "stream",
     "text": [
      "/Library/Frameworks/Python.framework/Versions/3.5/lib/python3.5/site-packages/ipykernel/__main__.py:26: DeprecationWarning: using a non-integer number instead of an integer will result in an error in the future\n"
     ]
    }
   ],
   "source": [
    "from math import floor, ceil\n",
    "import numpy as np\n",
    "\n",
    "width = 80; height = 60\n",
    "\n",
    "bins = np.zeros((height,width))\n",
    "\n",
    "normalization = 0\n",
    "\n",
    "for i in range(300): # len(macs)\n",
    "    # filter for mac address\n",
    "    filtered_frame = frame[frame['sourceMac'] == macs.index[i]]\n",
    "    # extract positions\n",
    "    locations = filtered_frame['coordinates']\n",
    "    \n",
    "    positions1 = pd.DataFrame(locations)\n",
    "    positions = pd.DataFrame(list(positions1['coordinates']))\n",
    "\n",
    "    f = lambda x: x/3\n",
    "\n",
    "    # binned positions, still fractional numbers\n",
    "    binpos = positions.apply(f)\n",
    "    \n",
    "    for j in range(len(binpos) - 1):\n",
    "        if floor(binpos[0][j]) + 40 >= 0 and floor(binpos[0][j]) + 40 < width and \\\n",
    "            floor(binpos[1][j]) + 30 >= 0 and floor(binpos[1][j]) + 30 < height:\n",
    "            bins[height/2 + floor(binpos[1][j])][width/2 + floor(binpos[0][j])] += 1\n",
    "            normalization += 1\n",
    "            \n",
    "bins /= normalization\n",
    "    "
   ]
  },
  {
   "cell_type": "code",
   "execution_count": 55,
   "metadata": {
    "collapsed": false
   },
   "outputs": [
    {
     "data": {
      "text/plain": [
       "0.99999999999999989"
      ]
     },
     "execution_count": 55,
     "metadata": {},
     "output_type": "execute_result"
    }
   ],
   "source": [
    "bins.sum()"
   ]
  },
  {
   "cell_type": "code",
   "execution_count": 21,
   "metadata": {
    "collapsed": false
   },
   "outputs": [],
   "source": [
    "import matplotlib.pyplot as plt\n",
    "from mpl_toolkits.mplot3d import Axes3D\n",
    "from matplotlib import cm\n",
    "from matplotlib.ticker import LinearLocator, FormatStrFormatter\n",
    "\n",
    "fig = plt.figure(figsize=(12,8))\n",
    "\n",
    "X = np.arange(0,len(bins[1]),1)\n",
    "Y = np.arange(0,len(bins),1)\n",
    "Xs, Ys = np.meshgrid(X, Y)\n",
    "\n",
    "Z = bins\n",
    "\n",
    "ax = Axes3D(fig)\n",
    "ax.plot_surface(Xs, Ys, Z, rstride=2, cstride=1, cmap='hsv')#, cmap='hot')\n",
    "plt.show()"
   ]
  },
  {
   "cell_type": "code",
   "execution_count": 56,
   "metadata": {
    "collapsed": false
   },
   "outputs": [],
   "source": [
    "im = plt.imread('/Users/philip/Documents/PhD/data-analysis/escience/arena_sensation.png')\n",
    "\n",
    "#fig = plt.figure()\n",
    "#ax = fig.add_subplot(1,1,1)\n",
    "# convenience method:\n",
    "fig, ax = plt.subplots()\n",
    "\n",
    "#ax.set_xlim((0,1853)) # 1853\n",
    "#ax.set_ylim((0,1369)) # 1369\n",
    "\n",
    "ax.imshow(im)\n",
    "ax.imshow(bins, aspect='auto', cmap='hsv', alpha=1)\n",
    "\n",
    "#ax.plot(range(1200))\n",
    "\n",
    "plt.show()"
   ]
  },
  {
   "cell_type": "code",
   "execution_count": 13,
   "metadata": {
    "collapsed": false
   },
   "outputs": [
    {
     "data": {
      "text/plain": [
       "4.0"
      ]
     },
     "execution_count": 13,
     "metadata": {},
     "output_type": "execute_result"
    }
   ],
   "source": [
    "a=8;b=2\n",
    "a/=b\n",
    "a"
   ]
  },
  {
   "cell_type": "code",
   "execution_count": null,
   "metadata": {
    "collapsed": true
   },
   "outputs": [],
   "source": []
  }
 ],
 "metadata": {
  "kernelspec": {
   "display_name": "Python 3",
   "language": "python",
   "name": "python3"
  },
  "language_info": {
   "codemirror_mode": {
    "name": "ipython",
    "version": 3
   },
   "file_extension": ".py",
   "mimetype": "text/x-python",
   "name": "python",
   "nbconvert_exporter": "python",
   "pygments_lexer": "ipython3",
   "version": "3.5.1"
  }
 },
 "nbformat": 4,
 "nbformat_minor": 0
}
