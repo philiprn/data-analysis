{
 "cells": [
  {
   "cell_type": "code",
   "execution_count": 4,
   "metadata": {
    "collapsed": true
   },
   "outputs": [],
   "source": [
    "import json\n",
    "for i in [0]:\n",
    "    data = []\n",
    "    with open(\"/Users/philip/Documents/PhD/data/ArenaData/arena_fits/2015-07-05.json\") as f:\n",
    "        data = f.readlines()\n",
    "\n",
    "    json_lines = []\n",
    "    \n",
    "    for line in data:\n",
    "        jsline = json.loads(line)\n",
    "        json_lines.append(jsline)"
   ]
  },
  {
   "cell_type": "code",
   "execution_count": 28,
   "metadata": {
    "collapsed": false
   },
   "outputs": [],
   "source": [
    "import pandas as pd\n",
    "\n",
    "frame = pd.DataFrame.from_dict(json_lines)"
   ]
  },
  {
   "cell_type": "code",
   "execution_count": 29,
   "metadata": {
    "collapsed": false
   },
   "outputs": [],
   "source": [
    "# make dataframe of dicts nested in 'value' column\n",
    "newframe = pd.DataFrame(list(frame['value']))\n",
    "\n",
    "# make dataframe of dicts nested in 'trackeeHistory' column\n",
    "newframe2 = pd.DataFrame(list(newframe['trackeeHistory']))"
   ]
  },
  {
   "cell_type": "code",
   "execution_count": 30,
   "metadata": {
    "collapsed": false
   },
   "outputs": [],
   "source": [
    "# make dataframe with a 'coordinates' column\n",
    "newframe3 = pd.DataFrame(list(newframe['averagecoordinate']))\n",
    "newframe4 = pd.DataFrame(list(newframe3['error']))"
   ]
  },
  {
   "cell_type": "code",
   "execution_count": 31,
   "metadata": {
    "collapsed": false
   },
   "outputs": [],
   "source": [
    "# make dataframe with only the x-value of coordinates as element\n",
    "# could also be Series\n",
    "from math import sqrt\n",
    "\n",
    "x_error = []\n",
    "y_error = []\n",
    "for i in range(len(newframe4)):\n",
    "    x_error.append(newframe4.coordinates[i][0])\n",
    "    y_error.append(newframe4.coordinates[i][1])\n",
    "x_err = pd.DataFrame(x_error)\n",
    "y_err = pd.DataFrame(y_error)"
   ]
  },
  {
   "cell_type": "code",
   "execution_count": 32,
   "metadata": {
    "collapsed": true
   },
   "outputs": [],
   "source": [
    "# delete columns containing dicts and join dataframes\n",
    "del newframe['trackeeHistory']\n",
    "newframe3 = newframe.join(newframe2)\n",
    "del frame['value']\n",
    "bigframe = frame.join(newframe3)\n",
    "bigframe['x_error'] = x_err\n",
    "bigframe['y_error'] = y_err"
   ]
  },
  {
   "cell_type": "code",
   "execution_count": 33,
   "metadata": {
    "collapsed": false
   },
   "outputs": [
    {
     "data": {
      "text/plain": [
       "2d1ff804-c499-4163-b90f-003df1e4ec65    78664\n",
       "85a84e08-c967-41d0-b56b-522574796776    74356\n",
       "2c019c2d-7e9e-42b1-b3bd-1797c918d4a7    16995\n",
       "e1deda99-163f-4b68-9ade-e1f05d070bf2     8370\n",
       "6cab229a-e15d-48b7-ab1e-5ddca3d7e283     7712\n",
       "Name: sourceMac, dtype: int64"
      ]
     },
     "execution_count": 33,
     "metadata": {},
     "output_type": "execute_result"
    }
   ],
   "source": [
    "# get most frequent mac address\n",
    "macs = bigframe['sourceMac'].value_counts()\n",
    "macs[:5]"
   ]
  },
  {
   "cell_type": "code",
   "execution_count": null,
   "metadata": {
    "collapsed": false
   },
   "outputs": [
    {
     "name": "stderr",
     "output_type": "stream",
     "text": [
      "/Library/Frameworks/Python.framework/Versions/3.5/lib/python3.5/site-packages/ipykernel/__main__.py:30: DeprecationWarning: using a non-integer number instead of an integer will result in an error in the future\n"
     ]
    }
   ],
   "source": [
    "from math import floor, ceil\n",
    "import numpy as np\n",
    "\n",
    "width = 80; height = 60\n",
    "\n",
    "bins = np.zeros((height,width))\n",
    "\n",
    "for i in range(100): # len(macs)\n",
    "    filtered_frame = bigframe[bigframe['sourceMac'] == macs.index[i]]\n",
    "    # filters\n",
    "    probChi2_filtered = filtered_frame[filtered_frame['probChi2'] > 0.3]\n",
    "    error_filtered = probChi2_filtered[probChi2_filtered['x_error'] < 5] # was 5\n",
    "    error_filtered = probChi2_filtered[probChi2_filtered['y_error'] < 5]\n",
    "    Chi2dof_filtered = error_filtered[error_filtered['chi2PerDof'] < 1.2] # was 1.2\n",
    "    # get list of locations\n",
    "    avgframe = pd.DataFrame(list(Chi2dof_filtered['averagecoordinate']))\n",
    "    coorframe = pd.DataFrame(list(avgframe['avg']))\n",
    "    locations = coorframe['coordinates']\n",
    "    \n",
    "    positions1 = pd.DataFrame(locations)\n",
    "    positions = pd.DataFrame(list(positions1['coordinates']))\n",
    "\n",
    "    f = lambda x: x/3\n",
    "\n",
    "    # binned positions, still fractional numbers\n",
    "    binpos = positions.apply(f)\n",
    "\n",
    "    for j in range(len(binpos) - 1):\n",
    "        if floor(binpos[0][j]) + 20 >= 0 and floor(binpos[0][j]) + 20 < width and \\\n",
    "            floor(binpos[1][j]) + 15 >= 0 and floor(binpos[1][j]) + 15 < height:\n",
    "            bins[height/2 + floor(binpos[1][j])][width/2 + floor(binpos[0][j])] += 1/len(positions)\n",
    "    "
   ]
  },
  {
   "cell_type": "code",
   "execution_count": null,
   "metadata": {
    "collapsed": false
   },
   "outputs": [],
   "source": [
    "import matplotlib.pyplot as plt\n",
    "from mpl_toolkits.mplot3d import Axes3D\n",
    "from matplotlib import cm\n",
    "from matplotlib.ticker import LinearLocator, FormatStrFormatter\n",
    "\n",
    "fig = plt.figure()\n",
    "\n",
    "X = np.arange(0,len(bins[1]),1)\n",
    "Y = np.arange(0,len(bins),1)\n",
    "Xs, Ys = np.meshgrid(X, Y)\n",
    "\n",
    "Z = bins\n",
    "\n",
    "ax = Axes3D(fig)\n",
    "ax.plot_surface(Xs, Ys, Z, rstride=2, cstride=1, cmap='hsv')#, cmap='hot')\n",
    "plt.show()"
   ]
  },
  {
   "cell_type": "code",
   "execution_count": 107,
   "metadata": {
    "collapsed": false
   },
   "outputs": [],
   "source": [
    "im = plt.imread('/Users/philip/Documents/PhD/data-analysis/escience/arena_sensation.png')\n",
    "\n",
    "#fig = plt.figure()\n",
    "#ax = fig.add_subplot(1,1,1)\n",
    "# convenience method:\n",
    "fig, ax = plt.subplots()\n",
    "\n",
    "#ax.set_xlim((0,1853)) # 1853\n",
    "#ax.set_ylim((0,1369)) # 1369\n",
    "\n",
    "ax.imshow(im)\n",
    "ax.imshow(bins, aspect='auto', cmap='hsv', alpha=1)\n",
    "\n",
    "#ax.plot(range(1200))\n",
    "\n",
    "plt.show()"
   ]
  },
  {
   "cell_type": "code",
   "execution_count": 109,
   "metadata": {
    "collapsed": false
   },
   "outputs": [
    {
     "data": {
      "text/plain": [
       "30"
      ]
     },
     "execution_count": 109,
     "metadata": {},
     "output_type": "execute_result"
    }
   ],
   "source": [
    "len(Y)"
   ]
  },
  {
   "cell_type": "code",
   "execution_count": null,
   "metadata": {
    "collapsed": true
   },
   "outputs": [],
   "source": []
  }
 ],
 "metadata": {
  "kernelspec": {
   "display_name": "Python 3",
   "language": "python",
   "name": "python3"
  },
  "language_info": {
   "codemirror_mode": {
    "name": "ipython",
    "version": 3
   },
   "file_extension": ".py",
   "mimetype": "text/x-python",
   "name": "python",
   "nbconvert_exporter": "python",
   "pygments_lexer": "ipython3",
   "version": "3.5.1"
  }
 },
 "nbformat": 4,
 "nbformat_minor": 0
}
